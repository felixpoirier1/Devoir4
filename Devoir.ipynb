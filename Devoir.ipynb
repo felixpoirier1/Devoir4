{
 "cells": [
  {
   "cell_type": "code",
   "execution_count": 1,
   "metadata": {},
   "outputs": [],
   "source": [
    "import pandas as pd\n",
    "import matplotlib.pyplot as plt"
   ]
  },
  {
   "cell_type": "markdown",
   "metadata": {},
   "source": [
    "# Question 1"
   ]
  },
  {
   "cell_type": "code",
   "execution_count": 2,
   "metadata": {},
   "outputs": [],
   "source": [
    "prod = pd.read_excel(\"production.xlsx\", index_col=0)"
   ]
  },
  {
   "cell_type": "code",
   "execution_count": 3,
   "metadata": {},
   "outputs": [
    {
     "data": {
      "text/html": [
       "<div>\n",
       "<style scoped>\n",
       "    .dataframe tbody tr th:only-of-type {\n",
       "        vertical-align: middle;\n",
       "    }\n",
       "\n",
       "    .dataframe tbody tr th {\n",
       "        vertical-align: top;\n",
       "    }\n",
       "\n",
       "    .dataframe thead th {\n",
       "        text-align: right;\n",
       "    }\n",
       "</style>\n",
       "<table border=\"1\" class=\"dataframe\">\n",
       "  <thead>\n",
       "    <tr style=\"text-align: right;\">\n",
       "      <th></th>\n",
       "      <th>R</th>\n",
       "      <th>L</th>\n",
       "      <th>A</th>\n",
       "      <th>M</th>\n",
       "    </tr>\n",
       "  </thead>\n",
       "  <tbody>\n",
       "    <tr>\n",
       "      <th>2010</th>\n",
       "      <td>250</td>\n",
       "      <td>1000</td>\n",
       "      <td>126</td>\n",
       "      <td>1.002041</td>\n",
       "    </tr>\n",
       "    <tr>\n",
       "      <th>2011</th>\n",
       "      <td>255</td>\n",
       "      <td>1010</td>\n",
       "      <td>130</td>\n",
       "      <td>1.023641</td>\n",
       "    </tr>\n",
       "    <tr>\n",
       "      <th>2012</th>\n",
       "      <td>260</td>\n",
       "      <td>1020</td>\n",
       "      <td>133</td>\n",
       "      <td>1.037070</td>\n",
       "    </tr>\n",
       "    <tr>\n",
       "      <th>2013</th>\n",
       "      <td>265</td>\n",
       "      <td>1030</td>\n",
       "      <td>137</td>\n",
       "      <td>1.058012</td>\n",
       "    </tr>\n",
       "    <tr>\n",
       "      <th>2014</th>\n",
       "      <td>271</td>\n",
       "      <td>1041</td>\n",
       "      <td>142</td>\n",
       "      <td>1.084728</td>\n",
       "    </tr>\n",
       "    <tr>\n",
       "      <th>2015</th>\n",
       "      <td>276</td>\n",
       "      <td>1051</td>\n",
       "      <td>146</td>\n",
       "      <td>1.104903</td>\n",
       "    </tr>\n",
       "    <tr>\n",
       "      <th>2016</th>\n",
       "      <td>282</td>\n",
       "      <td>1062</td>\n",
       "      <td>151</td>\n",
       "      <td>1.130713</td>\n",
       "    </tr>\n",
       "    <tr>\n",
       "      <th>2017</th>\n",
       "      <td>288</td>\n",
       "      <td>1073</td>\n",
       "      <td>155</td>\n",
       "      <td>1.148639</td>\n",
       "    </tr>\n",
       "    <tr>\n",
       "      <th>2018</th>\n",
       "      <td>293</td>\n",
       "      <td>1083</td>\n",
       "      <td>160</td>\n",
       "      <td>1.175138</td>\n",
       "    </tr>\n",
       "    <tr>\n",
       "      <th>2019</th>\n",
       "      <td>299</td>\n",
       "      <td>1094</td>\n",
       "      <td>165</td>\n",
       "      <td>1.199658</td>\n",
       "    </tr>\n",
       "    <tr>\n",
       "      <th>2020</th>\n",
       "      <td>305</td>\n",
       "      <td>1105</td>\n",
       "      <td>170</td>\n",
       "      <td>1.223750</td>\n",
       "    </tr>\n",
       "  </tbody>\n",
       "</table>\n",
       "</div>"
      ],
      "text/plain": [
       "        R     L    A         M\n",
       "2010  250  1000  126  1.002041\n",
       "2011  255  1010  130  1.023641\n",
       "2012  260  1020  133  1.037070\n",
       "2013  265  1030  137  1.058012\n",
       "2014  271  1041  142  1.084728\n",
       "2015  276  1051  146  1.104903\n",
       "2016  282  1062  151  1.130713\n",
       "2017  288  1073  155  1.148639\n",
       "2018  293  1083  160  1.175138\n",
       "2019  299  1094  165  1.199658\n",
       "2020  305  1105  170  1.223750"
      ]
     },
     "execution_count": 3,
     "metadata": {},
     "output_type": "execute_result"
    }
   ],
   "source": [
    "M_list = []\n",
    "for i in prod.index:\n",
    "    R = prod.loc[i]['R']\n",
    "    L = prod.loc[i]['L']\n",
    "    A = prod.loc[i]['A']\n",
    "\n",
    "    M_list += [A/(R**(1/4)*L**(1/2))]\n",
    "\n",
    "prod['M'] = M_list\n",
    "prod\n"
   ]
  },
  {
   "cell_type": "code",
   "execution_count": 4,
   "metadata": {},
   "outputs": [
    {
     "data": {
      "text/plain": [
       "Text(0.5, 0, 'Années')"
      ]
     },
     "execution_count": 4,
     "metadata": {},
     "output_type": "execute_result"
    },
    {
     "data": {
      "image/png": "[encoded data removed]",
      "text/plain": [
       "<Figure size 720x360 with 1 Axes>"
      ]
     },
     "metadata": {
      "needs_background": "light"
     },
     "output_type": "display_data"
    }
   ],
   "source": [
    "plt.rcParams.update({'font.sans-serif':'futura'})\n",
    "plt.figure(figsize=(10,5))\n",
    "plt.grid(True)\n",
    "\n",
    "plt.plot(prod['M'], 'o-', color=\"black\", label=\"Productivité multi-factorielle de l'entreprise\")\n",
    "plt.title(\"Productivité de l'entreprise à travers le temps\")\n",
    "plt.fill_between(prod.index, prod['M'], [1 for i in prod.index], color=\"#767bf4\")\n",
    "plt.ylabel(r\"Facteur de productivité ($ M_t $)\")\n",
    "plt.xlabel(\"Années\")\n"
   ]
  },
  {
   "cell_type": "code",
   "execution_count": 5,
   "metadata": {},
   "outputs": [
    {
     "name": "stdout",
     "output_type": "stream",
     "text": [
      "Le rythme annuel moyen d'augmentation de la productivité mulifcatorielle est de 2.02% \n"
     ]
    }
   ],
   "source": [
    "print(\"Le rythme annuel moyen d'augmentation de la productivité mulifcatorielle est de {}% \".format(round(prod['M'].pct_change().mean()*100, 2)))"
   ]
  },
  {
   "cell_type": "markdown",
   "metadata": {},
   "source": [
    "# Question 2\n",
    "\n",
    "$$ A_t = F_t(R_t, L_t) = M_t R_t^{1/4} L_t^{1/2}$$\n",
    "\n",
    "$$ \\frac{dL}{dA}\\bigg\\rvert_{dA=0} : 0=\\frac{1}{2}M_t R_t^{1/4} L_t^{-1/2} $$\n",
    "$$ \\frac{dR}{dA}\\bigg\\rvert_{dA=0} : 0=\\frac{1}{4}M_t R_t^{-3/4} L_t^{1/2} $$\n",
    "\n",
    "$$ TMST = - \\frac{\\frac{1}{2}M_t R_t^{1/4} L_t^{-1/2}}{\\frac{1}{4}M_t R_t^{-3/4} L_t^{1/2}} = -2\\frac{R_t}{L_t}$$"
   ]
  },
  {
   "cell_type": "code",
   "execution_count": 6,
   "metadata": {},
   "outputs": [],
   "source": [
    "def tmst(R, L):\n",
    "    return -2 * (R/L)\n",
    "\n",
    "TMST_list = []\n",
    "for i in prod.index:\n",
    "    R = prod.loc[i]['R']\n",
    "    L = prod.loc[i]['L']\n",
    "\n",
    "    TMST_list += [tmst(R, L)]\n",
    "\n",
    "prod['TMST'] = TMST_list\n"
   ]
  },
  {
   "cell_type": "code",
   "execution_count": 7,
   "metadata": {},
   "outputs": [
    {
     "data": {
      "image/png": "[encoded data removed]",
      "text/plain": [
       "<Figure size 720x360 with 1 Axes>"
      ]
     },
     "metadata": {
      "needs_background": "light"
     },
     "output_type": "display_data"
    }
   ],
   "source": [
    "plt.rcParams.update({'font.sans-serif':'futura'})\n",
    "\n",
    "plt.figure(figsize=(10,5))\n",
    "plt.plot(prod['TMST'], 'o-', color=\"black\")\n",
    "plt.title(\"TMST de l'entreprise à travers le temps\")\n",
    "plt.fill_between(prod.index, prod['TMST'], [-0.5 for i in prod.index], color=\"#767bf4\")\n",
    "plt.ylabel(r\"Taux marginal de substitution technique ($ TMST $)\")\n",
    "plt.xlabel(\"Années\")\n",
    "plt.grid(True)"
   ]
  },
  {
   "cell_type": "markdown",
   "metadata": {},
   "source": [
    "On observe que le TMST diminue à travers les années. Cela signifie qu'à travers les 10 années, le coût exprimé en robots de remplacer un travailleur a diminué. Cela est logique avec l'avancée technologique qui fait en sorte que les robots deviennent de moins en moins cher comparativement aux humains."
   ]
  },
  {
   "cell_type": "markdown",
   "metadata": {},
   "source": [
    "# Question 3"
   ]
  },
  {
   "cell_type": "code",
   "execution_count": 8,
   "metadata": {},
   "outputs": [],
   "source": [
    "costs = pd.read_excel(\"costs.xlsx\", index_col=0)"
   ]
  },
  {
   "cell_type": "code",
   "execution_count": 9,
   "metadata": {},
   "outputs": [
    {
     "data": {
      "text/html": [
       "<div>\n",
       "<style scoped>\n",
       "    .dataframe tbody tr th:only-of-type {\n",
       "        vertical-align: middle;\n",
       "    }\n",
       "\n",
       "    .dataframe tbody tr th {\n",
       "        vertical-align: top;\n",
       "    }\n",
       "\n",
       "    .dataframe thead th {\n",
       "        text-align: right;\n",
       "    }\n",
       "</style>\n",
       "<table border=\"1\" class=\"dataframe\">\n",
       "  <thead>\n",
       "    <tr style=\"text-align: right;\">\n",
       "      <th></th>\n",
       "      <th>pL</th>\n",
       "      <th>pR</th>\n",
       "      <th>pA</th>\n",
       "      <th>G</th>\n",
       "      <th>pi</th>\n",
       "      <th>TMST</th>\n",
       "      <th>prix_relatif</th>\n",
       "      <th>diff</th>\n",
       "    </tr>\n",
       "  </thead>\n",
       "  <tbody>\n",
       "    <tr>\n",
       "      <th>2010</th>\n",
       "      <td>45.000000</td>\n",
       "      <td>75.000000</td>\n",
       "      <td>550</td>\n",
       "      <td>1000</td>\n",
       "      <td>4550.000000</td>\n",
       "      <td>0.500000</td>\n",
       "      <td>0.600000</td>\n",
       "      <td>0.100000</td>\n",
       "    </tr>\n",
       "    <tr>\n",
       "      <th>2011</th>\n",
       "      <td>46.370454</td>\n",
       "      <td>74.625936</td>\n",
       "      <td>550</td>\n",
       "      <td>1000</td>\n",
       "      <td>4636.227767</td>\n",
       "      <td>0.504950</td>\n",
       "      <td>0.621372</td>\n",
       "      <td>0.116421</td>\n",
       "    </tr>\n",
       "    <tr>\n",
       "      <th>2012</th>\n",
       "      <td>47.782645</td>\n",
       "      <td>74.253738</td>\n",
       "      <td>550</td>\n",
       "      <td>1000</td>\n",
       "      <td>4105.730755</td>\n",
       "      <td>0.509804</td>\n",
       "      <td>0.643505</td>\n",
       "      <td>0.133701</td>\n",
       "    </tr>\n",
       "    <tr>\n",
       "      <th>2013</th>\n",
       "      <td>49.237843</td>\n",
       "      <td>73.883395</td>\n",
       "      <td>550</td>\n",
       "      <td>1000</td>\n",
       "      <td>4055.922151</td>\n",
       "      <td>0.514563</td>\n",
       "      <td>0.666426</td>\n",
       "      <td>0.151863</td>\n",
       "    </tr>\n",
       "    <tr>\n",
       "      <th>2014</th>\n",
       "      <td>50.737358</td>\n",
       "      <td>73.514900</td>\n",
       "      <td>550</td>\n",
       "      <td>1000</td>\n",
       "      <td>4359.871953</td>\n",
       "      <td>0.520653</td>\n",
       "      <td>0.690164</td>\n",
       "      <td>0.169511</td>\n",
       "    </tr>\n",
       "    <tr>\n",
       "      <th>2015</th>\n",
       "      <td>52.282541</td>\n",
       "      <td>73.148243</td>\n",
       "      <td>550</td>\n",
       "      <td>1000</td>\n",
       "      <td>4162.134311</td>\n",
       "      <td>0.525214</td>\n",
       "      <td>0.714748</td>\n",
       "      <td>0.189534</td>\n",
       "    </tr>\n",
       "    <tr>\n",
       "      <th>2016</th>\n",
       "      <td>53.874781</td>\n",
       "      <td>72.783415</td>\n",
       "      <td>550</td>\n",
       "      <td>1000</td>\n",
       "      <td>4310.059182</td>\n",
       "      <td>0.531073</td>\n",
       "      <td>0.740207</td>\n",
       "      <td>0.209133</td>\n",
       "    </tr>\n",
       "    <tr>\n",
       "      <th>2017</th>\n",
       "      <td>55.515513</td>\n",
       "      <td>72.420406</td>\n",
       "      <td>550</td>\n",
       "      <td>1000</td>\n",
       "      <td>3824.777884</td>\n",
       "      <td>0.536813</td>\n",
       "      <td>0.766573</td>\n",
       "      <td>0.229760</td>\n",
       "    </tr>\n",
       "    <tr>\n",
       "      <th>2018</th>\n",
       "      <td>57.206212</td>\n",
       "      <td>72.059208</td>\n",
       "      <td>550</td>\n",
       "      <td>1000</td>\n",
       "      <td>3932.324734</td>\n",
       "      <td>0.541090</td>\n",
       "      <td>0.793878</td>\n",
       "      <td>0.252788</td>\n",
       "    </tr>\n",
       "    <tr>\n",
       "      <th>2019</th>\n",
       "      <td>58.948400</td>\n",
       "      <td>71.699811</td>\n",
       "      <td>550</td>\n",
       "      <td>1000</td>\n",
       "      <td>3822.206560</td>\n",
       "      <td>0.546618</td>\n",
       "      <td>0.822156</td>\n",
       "      <td>0.275538</td>\n",
       "    </tr>\n",
       "    <tr>\n",
       "      <th>2020</th>\n",
       "      <td>60.743646</td>\n",
       "      <td>71.342207</td>\n",
       "      <td>550</td>\n",
       "      <td>1000</td>\n",
       "      <td>3618.897708</td>\n",
       "      <td>0.552036</td>\n",
       "      <td>0.851441</td>\n",
       "      <td>0.299404</td>\n",
       "    </tr>\n",
       "  </tbody>\n",
       "</table>\n",
       "</div>"
      ],
      "text/plain": [
       "             pL         pR   pA     G           pi      TMST  prix_relatif  \\\n",
       "2010  45.000000  75.000000  550  1000  4550.000000  0.500000      0.600000   \n",
       "2011  46.370454  74.625936  550  1000  4636.227767  0.504950      0.621372   \n",
       "2012  47.782645  74.253738  550  1000  4105.730755  0.509804      0.643505   \n",
       "2013  49.237843  73.883395  550  1000  4055.922151  0.514563      0.666426   \n",
       "2014  50.737358  73.514900  550  1000  4359.871953  0.520653      0.690164   \n",
       "2015  52.282541  73.148243  550  1000  4162.134311  0.525214      0.714748   \n",
       "2016  53.874781  72.783415  550  1000  4310.059182  0.531073      0.740207   \n",
       "2017  55.515513  72.420406  550  1000  3824.777884  0.536813      0.766573   \n",
       "2018  57.206212  72.059208  550  1000  3932.324734  0.541090      0.793878   \n",
       "2019  58.948400  71.699811  550  1000  3822.206560  0.546618      0.822156   \n",
       "2020  60.743646  71.342207  550  1000  3618.897708  0.552036      0.851441   \n",
       "\n",
       "          diff  \n",
       "2010  0.100000  \n",
       "2011  0.116421  \n",
       "2012  0.133701  \n",
       "2013  0.151863  \n",
       "2014  0.169511  \n",
       "2015  0.189534  \n",
       "2016  0.209133  \n",
       "2017  0.229760  \n",
       "2018  0.252788  \n",
       "2019  0.275538  \n",
       "2020  0.299404  "
      ]
     },
     "execution_count": 9,
     "metadata": {},
     "output_type": "execute_result"
    }
   ],
   "source": [
    "costs['TMST'] = abs(prod['TMST'])\n",
    "costs[\"prix_relatif\"] = costs['pL']/costs['pR']\n",
    "\n",
    "costs['diff'] = costs['prix_relatif'] - costs['TMST']\n",
    "costs"
   ]
  },
  {
   "cell_type": "code",
   "execution_count": 40,
   "metadata": {},
   "outputs": [
    {
     "data": {
      "text/plain": [
       "<matplotlib.legend.Legend at 0x11b145c70>"
      ]
     },
     "execution_count": 40,
     "metadata": {},
     "output_type": "execute_result"
    },
    {
     "data": {
      "image/png": "[encoded data removed]",
      "text/plain": [
       "<Figure size 720x360 with 1 Axes>"
      ]
     },
     "metadata": {
      "needs_background": "light"
     },
     "output_type": "display_data"
    }
   ],
   "source": [
    "plt.rcParams.update({'font.sans-serif':'futura'})\n",
    "\n",
    "plt.figure(figsize=(10,5))\n",
    "plt.grid(True)\n",
    "plt.plot(costs['prix_relatif'], \"o-\", color=\"#3b35f5\", label=r\"$ p_L/p_R $\")\n",
    "plt.plot(costs['TMST'], \"o-\", color=\"black\", label=r\"$ |TMST| $\")\n",
    "plt.bar(costs.index, costs['diff'], color=\"#003261\", label=r\"$ p_L/p_R - |TMST| $\")\n",
    "plt.title(\"Différences entre le TMST et le prix relatif\")\n",
    "plt.fill_between(prod.index, costs['TMST'], costs['prix_relatif'], color=\"#767bf4\")\n",
    "plt.ylabel(r\"Facteur\")\n",
    "plt.xlabel(\"Années\")\n",
    "plt.legend()\n"
   ]
  },
  {
   "cell_type": "markdown",
   "metadata": {},
   "source": [
    "Puisque le TMST n'est pas égal au prix relatif, l'entreprise n'a jamais minimisé ses coûts au cours de la décennie. De plus, comme on le voit ci-haut, le prix relatif d'un travailleur en robots a toujours été plus élevé que le TMST. Cela signifie, que pour minimiser ses coûts, l'entreprise devrait réduire ses travailleurs en faveur de robots. De plus, on observe que le prix relatif a augmenté plus rapidement au fil des années que le TMST, ce qui indique que la stratégie de coûts de l'entreprise devient de plus en plus inefficace à travers les années."
   ]
  },
  {
   "cell_type": "markdown",
   "metadata": {},
   "source": [
    "# Question 4\n",
    "\n",
    "Fonction des coûts:\n",
    "$$ C(L,R,G) = p_L L + p_R R + G $$\n",
    "\n",
    "Fonction de production (contrainte):\n",
    "$$ F_t(R_t, L_t) = A_t =  M_t R_t^{1/4} L_t^{1/2} $$\n",
    "\n",
    "Optimisation par le Lagrangien:\n",
    "$$ L(L_t, R_t, \\mu) = p_L L + p_R R + G + \\mu(M_t R_t^{1/4} L_t^{1/2} - A_t) $$\n",
    "$$ \\frac{dL}{dA}\\bigg\\rvert_{dA=0} : 0=\\frac{1}{2}M_t R_t^{1/4} L_t^{-1/2} $$\n",
    "$$ \\frac{dR}{dA}\\bigg\\rvert_{dA=0} : 0=\\frac{1}{4}M_t R_t^{-3/4} L_t^{1/2} $$\n",
    "$$ \\frac{dM}{dA}\\bigg\\rvert_{dA=0} : A_t =  M_t R_t^{1/4} L_t^{1/2} $$\n",
    "Demandes d'input conditionnelles:\n",
    "$$ R_t^* = (\\frac{A_t}{M_t})^{4/3}(\\frac{p_L}{2p_R})^{2/3} $$\n",
    "$$ L_t^* = (\\frac{A_t}{M_t})^{4/3} (\\frac{2p_R}{p_L})^{1/3} $$\n",
    "\n"
   ]
  },
  {
   "cell_type": "code",
   "execution_count": 11,
   "metadata": {},
   "outputs": [],
   "source": [
    "def R_star(A, M, pL, pR):\n",
    "    return (A/M)**(4/3)*(pL/(2*pR))**(2/3)\n",
    "\n",
    "def L_star(A, M, pL, pR):\n",
    "    return (A/M)**(4/3)*((2*pR)/pL)**(1/3)\n",
    "\n",
    "costs['A'] = prod['A']\n",
    "costs['M'] = prod['M']\n",
    "\n",
    "R_star_ = []\n",
    "L_star_ = []\n",
    "for i in costs.index:\n",
    "    A = costs.loc[i]['A']\n",
    "    M = costs.loc[i]['M']\n",
    "    pL = costs.loc[i]['pL']\n",
    "    pR = costs.loc[i]['pR']\n",
    "\n",
    "    R_star_ += [R_star(A, M, pL, pR)]\n",
    "    L_star_ += [L_star(A, M, pL, pR)]\n",
    "\n",
    "costs['R_star'] = R_star_\n",
    "costs['L_star'] = L_star_\n"
   ]
  },
  {
   "cell_type": "code",
   "execution_count": 38,
   "metadata": {},
   "outputs": [
    {
     "data": {
      "text/plain": [
       "<matplotlib.legend.Legend at 0x11bb97310>"
      ]
     },
     "execution_count": 38,
     "metadata": {},
     "output_type": "execute_result"
    },
    {
     "data": {
      "image/png": "[encoded data removed]",
      "text/plain": [
       "<Figure size 720x360 with 1 Axes>"
      ]
     },
     "metadata": {
      "needs_background": "light"
     },
     "output_type": "display_data"
    }
   ],
   "source": [
    "plt.rcParams.update({'font.sans-serif':'futura'})\n",
    "\n",
    "plt.figure(figsize=(10,5))\n",
    "plt.grid(True)\n",
    "plt.plot(prod['R'], \"o-\", color=\"#3b35f5\", label=r\"Robots ($ R $)\")\n",
    "plt.plot(prod['L'], \"o-\", color=\"black\", label=r\"Main d'oeuvre ($ L $)\")\n",
    "plt.bar(costs.index, prod['R'] - prod['L'], color=\"#8b0000\", label=r\"Écart ($ R - L $)\")\n",
    "plt.axhline(0, color='black')\n",
    "plt.title(\"Évolution de la main d'oeuvre et des robots\")\n",
    "plt.fill_between(prod.index, prod['L'], prod['R'], color=\"#767bf4\")\n",
    "plt.ylabel(r\"Quantité\")\n",
    "plt.xlabel(\"Années\")\n",
    "plt.legend()"
   ]
  },
  {
   "cell_type": "code",
   "execution_count": 39,
   "metadata": {},
   "outputs": [
    {
     "data": {
      "text/plain": [
       "<matplotlib.legend.Legend at 0x11ac5bd00>"
      ]
     },
     "execution_count": 39,
     "metadata": {},
     "output_type": "execute_result"
    },
    {
     "data": {
      "image/png": "[encoded data removed]",
      "text/plain": [
       "<Figure size 720x360 with 1 Axes>"
      ]
     },
     "metadata": {
      "needs_background": "light"
     },
     "output_type": "display_data"
    }
   ],
   "source": [
    "plt.rcParams.update({'font.sans-serif':'futura'})\n",
    "\n",
    "plt.figure(figsize=(10,5))\n",
    "plt.grid(True)\n",
    "plt.plot(costs['R_star'], \"o-\", color=\"#3b35f5\", label=r\"Robots ($ R $)\")\n",
    "plt.plot(costs['L_star'], \"o-\", color=\"black\", label=r\"Main d'oeuvre ($ L $)\")\n",
    "plt.bar(costs.index, costs['R_star'] - costs['L_star'], color=\"#8b0000\", label=r\"Écart ($ R - L $)\")\n",
    "plt.axhline(0, color='black')\n",
    "plt.title(\"Évolution de la main d'oeuvre et des robots après optimisation\")\n",
    "plt.fill_between(prod.index, costs['L_star'], costs['R_star'], color=\"#767bf4\")\n",
    "plt.ylabel(r\"Quantité\")\n",
    "plt.xlabel(\"Années\")\n",
    "plt.legend()"
   ]
  },
  {
   "cell_type": "markdown",
   "metadata": {},
   "source": [
    "En observant les deux graphiques ci-haut, pour minimiser ses coûts l'entreprise doit augmenter son input de robots et diminuer (ou augmenter moins rapidement) sa demande de travailleurs."
   ]
  },
  {
   "cell_type": "markdown",
   "metadata": {},
   "source": [
    "# Question 5\n",
    "\n",
    "Insérer les demandes conditionnelles dans la fonction des coûts:\n",
    "$$ C(L,R,G) = p_L ((\\frac{A_t}{M_t})^{4/3} (\\frac{2p_R}{p_L})^{1/3} ) + p_R((\\frac{A_t}{M_t})^{4/3}(\\frac{p_L}{2p_R})^{2/3}) + G $$\n",
    "$$ C(L,R,G) = (p^{2/3}(2*p_R)^{1/3}+ p_R^{1/3}(\\frac{p_L}{2})^{2/3})(\\frac{A_t}{M_t})^{4/3} + G$$\n"
   ]
  },
  {
   "cell_type": "code",
   "execution_count": 13,
   "metadata": {},
   "outputs": [],
   "source": [
    "costs['costs_reel'] = costs['pL'] * prod['L'] + costs['pR'] * prod['R'] + costs['G']\n",
    "\n",
    "costs['costs_opt'] = costs['pL'] * costs['L_star'] + costs['pR'] * costs['R_star'] + costs['G']"
   ]
  },
  {
   "cell_type": "code",
   "execution_count": 14,
   "metadata": {},
   "outputs": [],
   "source": [
    "costs['gain_cumulatif'] = (costs['costs_reel'] - costs['costs_opt']).cumsum()"
   ]
  },
  {
   "cell_type": "code",
   "execution_count": 34,
   "metadata": {},
   "outputs": [
    {
     "name": "stdout",
     "output_type": "stream",
     "text": [
      "9326.92 $\n"
     ]
    }
   ],
   "source": [
    "print(round(costs.iloc[-1]['gain_cumulatif'], 2), \"$\")"
   ]
  },
  {
   "cell_type": "code",
   "execution_count": 30,
   "metadata": {},
   "outputs": [
    {
     "data": {
      "text/plain": [
       "<matplotlib.legend.Legend at 0x11b46afa0>"
      ]
     },
     "execution_count": 30,
     "metadata": {},
     "output_type": "execute_result"
    },
    {
     "data": {
      "image/png": "[encoded data removed]",
      "text/plain": [
       "<Figure size 720x360 with 1 Axes>"
      ]
     },
     "metadata": {
      "needs_background": "light"
     },
     "output_type": "display_data"
    }
   ],
   "source": [
    "plt.rcParams.update({'font.sans-serif':'futura'})\n",
    "\n",
    "plt.figure(figsize=(10,5))\n",
    "plt.grid(True)\n",
    "plt.plot(costs['costs_reel'], \"o-\", color=\"#3b35f5\", label=r\"Cout réel ($ C_{reel} $)\")\n",
    "plt.plot(costs['costs_opt'], \"o-\", color=\"black\", label=r\"Cout optimal ($ C_{opt} $)\")\n",
    "plt.bar(costs.index, costs['gain_cumulatif'], color=\"#8b0000\", label=r\"Gain cumulatif ($ C_{reel} - C_{opt} $)\")\n",
    "plt.axhline(0, color='black')\n",
    "plt.title(\"Évolution des couts réels et optimaux\")\n",
    "plt.fill_between(prod.index, costs['costs_reel'], costs['costs_opt'], color=\"#767bf4\")\n",
    "plt.ylabel(r\"Quantité en $\")\n",
    "plt.xlabel(\"Années\")\n",
    "plt.legend()"
   ]
  },
  {
   "cell_type": "markdown",
   "metadata": {},
   "source": [
    "Si elle avait optimisé ses coûts sur la décennie, l'entreprise aurait épargné 9326,92$. Comme le montre le graphique, l'entreprise a payé plus de coûts qu'elle ne l'aurait fait en les optimisant à chaque année (moins de travailleurs, plus de robots)."
   ]
  },
  {
   "cell_type": "markdown",
   "metadata": {},
   "source": [
    "# Question 6"
   ]
  },
  {
   "cell_type": "code",
   "execution_count": 41,
   "metadata": {},
   "outputs": [],
   "source": [
    "def C_star(A, M, pL, pR, G):\n",
    "    return pL*L_star(A, M, pL, pR) + R_star(A, M, pL, pR) + G\n"
   ]
  },
  {
   "cell_type": "code",
   "execution_count": 61,
   "metadata": {},
   "outputs": [],
   "source": [
    "def C_marg(A, M, pL, pR, G):\n",
    "    x1 = 1.6799*A**(1/3)*pL**(2/3)*pR**(1/3)/M**(4/3)\n",
    "    x2 = 0.8399*A**(1/3)*pL**(2/3)*pR**(1/3)/M**(4/3)\n",
    "\n",
    "    return x1 + x2\n",
    "\n",
    "C_marg_ = []\n",
    "for cost in costs.index:\n",
    "    A = costs.loc[cost]['A']\n",
    "    M = costs.loc[cost]['M']\n",
    "    pL = costs.loc[cost]['pL']\n",
    "    pR = costs.loc[cost]['pR']\n",
    "    G = costs.loc[cost]['G']\n",
    "    C_marg_ += [C_marg(A, M, pL, pR, G)]\n",
    "\n",
    "costs['C_marg'] = C_marg_"
   ]
  },
  {
   "cell_type": "code",
   "execution_count": 62,
   "metadata": {},
   "outputs": [
    {
     "data": {
      "text/plain": [
       "<AxesSubplot: >"
      ]
     },
     "execution_count": 62,
     "metadata": {},
     "output_type": "execute_result"
    },
    {
     "data": {
      "image/png": "[encoded data removed]",
      "text/plain": [
       "<Figure size 432x288 with 1 Axes>"
      ]
     },
     "metadata": {
      "needs_background": "light"
     },
     "output_type": "display_data"
    }
   ],
   "source": [
    "costs[['C_marg',\"pA\"]].plot()\n"
   ]
  },
  {
   "cell_type": "markdown",
   "metadata": {},
   "source": [
    "Cout marginl est superieur a PA, donc il benefierait a produire moins. Ils ne maximisent donc pas leurs profits avec ce prix de vente. Ils maximiseraient en produisant moins d'autobus electriques. "
   ]
  },
  {
   "cell_type": "markdown",
   "metadata": {},
   "source": [
    "# Question 7"
   ]
  },
  {
   "cell_type": "code",
   "execution_count": 57,
   "metadata": {},
   "outputs": [],
   "source": [
    "def A_opt(A, M, pA, pL, pR):\n",
    "    nom = pA**(3)*M**(4)\n",
    "    denom = 2.5198**(3)*pR*pL**2\n",
    "    return nom/denom\n",
    "\n",
    "A_opt_ = []\n",
    "for cost in costs.index:\n",
    "    A = costs.loc[cost]['A']\n",
    "    M = costs.loc[cost]['M']\n",
    "    pA = costs.loc[cost]['pA']\n",
    "    pL = costs.loc[cost]['pL']\n",
    "    pR = costs.loc[cost]['pR']\n",
    "    A_opt_ += [A_opt(A, M, pA, pL, pR)]\n",
    "\n",
    "costs['A_opt'] = A_opt_"
   ]
  },
  {
   "cell_type": "code",
   "execution_count": 63,
   "metadata": {},
   "outputs": [
    {
     "data": {
      "text/plain": [
       "<AxesSubplot: >"
      ]
     },
     "execution_count": 63,
     "metadata": {},
     "output_type": "execute_result"
    },
    {
     "data": {
      "image/png": "[encoded data removed]",
      "text/plain": [
       "<Figure size 432x288 with 1 Axes>"
      ]
     },
     "metadata": {
      "needs_background": "light"
     },
     "output_type": "display_data"
    }
   ],
   "source": [
    "\n",
    "costs[['A',\"A_opt\"]].plot()"
   ]
  },
  {
   "cell_type": "code",
   "execution_count": 72,
   "metadata": {},
   "outputs": [],
   "source": [
    "costs['profit'] = costs['pA'] * costs['A'] - costs['pL'] * prod['L'] - costs['pR'] * prod['R'] - costs['G']\n",
    "costs['profit_opt'] = costs['pA'] * costs['A_opt'] - costs['pL'] * prod['L'] - costs['pR'] * prod['R'] - costs['G']"
   ]
  },
  {
   "cell_type": "code",
   "execution_count": 74,
   "metadata": {},
   "outputs": [
    {
     "data": {
      "text/html": [
       "<div>\n",
       "<style scoped>\n",
       "    .dataframe tbody tr th:only-of-type {\n",
       "        vertical-align: middle;\n",
       "    }\n",
       "\n",
       "    .dataframe tbody tr th {\n",
       "        vertical-align: top;\n",
       "    }\n",
       "\n",
       "    .dataframe thead th {\n",
       "        text-align: right;\n",
       "    }\n",
       "</style>\n",
       "<table border=\"1\" class=\"dataframe\">\n",
       "  <thead>\n",
       "    <tr style=\"text-align: right;\">\n",
       "      <th></th>\n",
       "      <th>R</th>\n",
       "      <th>L</th>\n",
       "      <th>A</th>\n",
       "      <th>M</th>\n",
       "      <th>TMST</th>\n",
       "    </tr>\n",
       "  </thead>\n",
       "  <tbody>\n",
       "    <tr>\n",
       "      <th>2010</th>\n",
       "      <td>250</td>\n",
       "      <td>1000</td>\n",
       "      <td>126</td>\n",
       "      <td>1.002041</td>\n",
       "      <td>-0.500000</td>\n",
       "    </tr>\n",
       "    <tr>\n",
       "      <th>2011</th>\n",
       "      <td>255</td>\n",
       "      <td>1010</td>\n",
       "      <td>130</td>\n",
       "      <td>1.023641</td>\n",
       "      <td>-0.504950</td>\n",
       "    </tr>\n",
       "    <tr>\n",
       "      <th>2012</th>\n",
       "      <td>260</td>\n",
       "      <td>1020</td>\n",
       "      <td>133</td>\n",
       "      <td>1.037070</td>\n",
       "      <td>-0.509804</td>\n",
       "    </tr>\n",
       "    <tr>\n",
       "      <th>2013</th>\n",
       "      <td>265</td>\n",
       "      <td>1030</td>\n",
       "      <td>137</td>\n",
       "      <td>1.058012</td>\n",
       "      <td>-0.514563</td>\n",
       "    </tr>\n",
       "    <tr>\n",
       "      <th>2014</th>\n",
       "      <td>271</td>\n",
       "      <td>1041</td>\n",
       "      <td>142</td>\n",
       "      <td>1.084728</td>\n",
       "      <td>-0.520653</td>\n",
       "    </tr>\n",
       "    <tr>\n",
       "      <th>2015</th>\n",
       "      <td>276</td>\n",
       "      <td>1051</td>\n",
       "      <td>146</td>\n",
       "      <td>1.104903</td>\n",
       "      <td>-0.525214</td>\n",
       "    </tr>\n",
       "    <tr>\n",
       "      <th>2016</th>\n",
       "      <td>282</td>\n",
       "      <td>1062</td>\n",
       "      <td>151</td>\n",
       "      <td>1.130713</td>\n",
       "      <td>-0.531073</td>\n",
       "    </tr>\n",
       "    <tr>\n",
       "      <th>2017</th>\n",
       "      <td>288</td>\n",
       "      <td>1073</td>\n",
       "      <td>155</td>\n",
       "      <td>1.148639</td>\n",
       "      <td>-0.536813</td>\n",
       "    </tr>\n",
       "    <tr>\n",
       "      <th>2018</th>\n",
       "      <td>293</td>\n",
       "      <td>1083</td>\n",
       "      <td>160</td>\n",
       "      <td>1.175138</td>\n",
       "      <td>-0.541090</td>\n",
       "    </tr>\n",
       "    <tr>\n",
       "      <th>2019</th>\n",
       "      <td>299</td>\n",
       "      <td>1094</td>\n",
       "      <td>165</td>\n",
       "      <td>1.199658</td>\n",
       "      <td>-0.546618</td>\n",
       "    </tr>\n",
       "    <tr>\n",
       "      <th>2020</th>\n",
       "      <td>305</td>\n",
       "      <td>1105</td>\n",
       "      <td>170</td>\n",
       "      <td>1.223750</td>\n",
       "      <td>-0.552036</td>\n",
       "    </tr>\n",
       "  </tbody>\n",
       "</table>\n",
       "</div>"
      ],
      "text/plain": [
       "        R     L    A         M      TMST\n",
       "2010  250  1000  126  1.002041 -0.500000\n",
       "2011  255  1010  130  1.023641 -0.504950\n",
       "2012  260  1020  133  1.037070 -0.509804\n",
       "2013  265  1030  137  1.058012 -0.514563\n",
       "2014  271  1041  142  1.084728 -0.520653\n",
       "2015  276  1051  146  1.104903 -0.525214\n",
       "2016  282  1062  151  1.130713 -0.531073\n",
       "2017  288  1073  155  1.148639 -0.536813\n",
       "2018  293  1083  160  1.175138 -0.541090\n",
       "2019  299  1094  165  1.199658 -0.546618\n",
       "2020  305  1105  170  1.223750 -0.552036"
      ]
     },
     "execution_count": 74,
     "metadata": {},
     "output_type": "execute_result"
    }
   ],
   "source": [
    "prod"
   ]
  },
  {
   "cell_type": "code",
   "execution_count": 75,
   "metadata": {},
   "outputs": [
    {
     "data": {
      "text/html": [
       "<div>\n",
       "<style scoped>\n",
       "    .dataframe tbody tr th:only-of-type {\n",
       "        vertical-align: middle;\n",
       "    }\n",
       "\n",
       "    .dataframe tbody tr th {\n",
       "        vertical-align: top;\n",
       "    }\n",
       "\n",
       "    .dataframe thead th {\n",
       "        text-align: right;\n",
       "    }\n",
       "</style>\n",
       "<table border=\"1\" class=\"dataframe\">\n",
       "  <thead>\n",
       "    <tr style=\"text-align: right;\">\n",
       "      <th></th>\n",
       "      <th>pL</th>\n",
       "      <th>pR</th>\n",
       "      <th>pA</th>\n",
       "      <th>G</th>\n",
       "      <th>pi</th>\n",
       "      <th>TMST</th>\n",
       "      <th>prix_relatif</th>\n",
       "      <th>diff</th>\n",
       "      <th>A</th>\n",
       "      <th>M</th>\n",
       "      <th>R_star</th>\n",
       "      <th>L_star</th>\n",
       "      <th>costs_reel</th>\n",
       "      <th>costs_opt</th>\n",
       "      <th>gain_cumulatif</th>\n",
       "      <th>C_marg</th>\n",
       "      <th>A_opt</th>\n",
       "      <th>profit</th>\n",
       "      <th>profit_opt</th>\n",
       "    </tr>\n",
       "  </thead>\n",
       "  <tbody>\n",
       "    <tr>\n",
       "      <th>2010</th>\n",
       "      <td>45.000000</td>\n",
       "      <td>75.000000</td>\n",
       "      <td>550</td>\n",
       "      <td>1000</td>\n",
       "      <td>4550.000000</td>\n",
       "      <td>0.500000</td>\n",
       "      <td>0.600000</td>\n",
       "      <td>0.100000</td>\n",
       "      <td>126</td>\n",
       "      <td>1.002041</td>\n",
       "      <td>282.310809</td>\n",
       "      <td>941.036029</td>\n",
       "      <td>64750.000000</td>\n",
       "      <td>64519.931949</td>\n",
       "      <td>230.068051</td>\n",
       "      <td>672.157362</td>\n",
       "      <td>69.031250</td>\n",
       "      <td>4550.000000</td>\n",
       "      <td>-26782.812763</td>\n",
       "    </tr>\n",
       "    <tr>\n",
       "      <th>2011</th>\n",
       "      <td>46.370454</td>\n",
       "      <td>74.625936</td>\n",
       "      <td>550</td>\n",
       "      <td>1000</td>\n",
       "      <td>4636.227767</td>\n",
       "      <td>0.504950</td>\n",
       "      <td>0.621372</td>\n",
       "      <td>0.116421</td>\n",
       "      <td>130</td>\n",
       "      <td>1.023641</td>\n",
       "      <td>292.825359</td>\n",
       "      <td>942.512507</td>\n",
       "      <td>66863.772233</td>\n",
       "      <td>66557.099345</td>\n",
       "      <td>536.740938</td>\n",
       "      <td>672.369272</td>\n",
       "      <td>71.155397</td>\n",
       "      <td>4636.227767</td>\n",
       "      <td>-27728.303757</td>\n",
       "    </tr>\n",
       "    <tr>\n",
       "      <th>2012</th>\n",
       "      <td>47.782645</td>\n",
       "      <td>74.253738</td>\n",
       "      <td>550</td>\n",
       "      <td>1000</td>\n",
       "      <td>4105.730755</td>\n",
       "      <td>0.509804</td>\n",
       "      <td>0.643505</td>\n",
       "      <td>0.133701</td>\n",
       "      <td>133</td>\n",
       "      <td>1.037070</td>\n",
       "      <td>303.672741</td>\n",
       "      <td>943.808623</td>\n",
       "      <td>69044.269245</td>\n",
       "      <td>68646.508014</td>\n",
       "      <td>934.502169</td>\n",
       "      <td>678.149151</td>\n",
       "      <td>70.951902</td>\n",
       "      <td>4105.730755</td>\n",
       "      <td>-30020.723138</td>\n",
       "    </tr>\n",
       "    <tr>\n",
       "      <th>2013</th>\n",
       "      <td>49.237843</td>\n",
       "      <td>73.883395</td>\n",
       "      <td>550</td>\n",
       "      <td>1000</td>\n",
       "      <td>4055.922151</td>\n",
       "      <td>0.514563</td>\n",
       "      <td>0.666426</td>\n",
       "      <td>0.151863</td>\n",
       "      <td>137</td>\n",
       "      <td>1.058012</td>\n",
       "      <td>314.862948</td>\n",
       "      <td>944.929446</td>\n",
       "      <td>71294.077849</td>\n",
       "      <td>70789.431222</td>\n",
       "      <td>1439.148796</td>\n",
       "      <td>679.204528</td>\n",
       "      <td>72.745632</td>\n",
       "      <td>4055.922151</td>\n",
       "      <td>-31283.980506</td>\n",
       "    </tr>\n",
       "    <tr>\n",
       "      <th>2014</th>\n",
       "      <td>50.737358</td>\n",
       "      <td>73.514900</td>\n",
       "      <td>550</td>\n",
       "      <td>1000</td>\n",
       "      <td>4359.871953</td>\n",
       "      <td>0.520653</td>\n",
       "      <td>0.690164</td>\n",
       "      <td>0.169511</td>\n",
       "      <td>142</td>\n",
       "      <td>1.084728</td>\n",
       "      <td>327.018186</td>\n",
       "      <td>947.653176</td>\n",
       "      <td>73740.128047</td>\n",
       "      <td>73122.128151</td>\n",
       "      <td>2057.148692</td>\n",
       "      <td>677.191767</td>\n",
       "      <td>76.074902</td>\n",
       "      <td>4359.871953</td>\n",
       "      <td>-31898.931678</td>\n",
       "    </tr>\n",
       "    <tr>\n",
       "      <th>2015</th>\n",
       "      <td>52.282541</td>\n",
       "      <td>73.148243</td>\n",
       "      <td>550</td>\n",
       "      <td>1000</td>\n",
       "      <td>4162.134311</td>\n",
       "      <td>0.525214</td>\n",
       "      <td>0.714748</td>\n",
       "      <td>0.189534</td>\n",
       "      <td>146</td>\n",
       "      <td>1.104903</td>\n",
       "      <td>338.937819</td>\n",
       "      <td>948.412440</td>\n",
       "      <td>76137.865689</td>\n",
       "      <td>75378.118284</td>\n",
       "      <td>2816.896097</td>\n",
       "      <td>679.240873</td>\n",
       "      <td>77.512098</td>\n",
       "      <td>4162.134311</td>\n",
       "      <td>-33506.212058</td>\n",
       "    </tr>\n",
       "    <tr>\n",
       "      <th>2016</th>\n",
       "      <td>53.874781</td>\n",
       "      <td>72.783415</td>\n",
       "      <td>550</td>\n",
       "      <td>1000</td>\n",
       "      <td>4310.059182</td>\n",
       "      <td>0.531073</td>\n",
       "      <td>0.740207</td>\n",
       "      <td>0.209133</td>\n",
       "      <td>151</td>\n",
       "      <td>1.130713</td>\n",
       "      <td>351.869355</td>\n",
       "      <td>950.732519</td>\n",
       "      <td>78739.940818</td>\n",
       "      <td>77830.759825</td>\n",
       "      <td>3726.077090</td>\n",
       "      <td>678.405971</td>\n",
       "      <td>80.462965</td>\n",
       "      <td>4310.059182</td>\n",
       "      <td>-34485.310157</td>\n",
       "    </tr>\n",
       "    <tr>\n",
       "      <th>2017</th>\n",
       "      <td>55.515513</td>\n",
       "      <td>72.420406</td>\n",
       "      <td>550</td>\n",
       "      <td>1000</td>\n",
       "      <td>3824.777884</td>\n",
       "      <td>0.536813</td>\n",
       "      <td>0.766573</td>\n",
       "      <td>0.229760</td>\n",
       "      <td>155</td>\n",
       "      <td>1.148639</td>\n",
       "      <td>365.213015</td>\n",
       "      <td>952.846280</td>\n",
       "      <td>81425.222116</td>\n",
       "      <td>80346.624668</td>\n",
       "      <td>4804.674538</td>\n",
       "      <td>682.540206</td>\n",
       "      <td>81.102651</td>\n",
       "      <td>3824.777884</td>\n",
       "      <td>-36818.764273</td>\n",
       "    </tr>\n",
       "    <tr>\n",
       "      <th>2018</th>\n",
       "      <td>57.206212</td>\n",
       "      <td>72.059208</td>\n",
       "      <td>550</td>\n",
       "      <td>1000</td>\n",
       "      <td>3932.324734</td>\n",
       "      <td>0.541090</td>\n",
       "      <td>0.793878</td>\n",
       "      <td>0.252788</td>\n",
       "      <td>160</td>\n",
       "      <td>1.175138</td>\n",
       "      <td>378.318272</td>\n",
       "      <td>953.089331</td>\n",
       "      <td>84067.675266</td>\n",
       "      <td>82783.945141</td>\n",
       "      <td>6088.404664</td>\n",
       "      <td>681.521490</td>\n",
       "      <td>84.094848</td>\n",
       "      <td>3932.324734</td>\n",
       "      <td>-37815.509100</td>\n",
       "    </tr>\n",
       "    <tr>\n",
       "      <th>2019</th>\n",
       "      <td>58.948400</td>\n",
       "      <td>71.699811</td>\n",
       "      <td>550</td>\n",
       "      <td>1000</td>\n",
       "      <td>3822.206560</td>\n",
       "      <td>0.546618</td>\n",
       "      <td>0.822156</td>\n",
       "      <td>0.275538</td>\n",
       "      <td>165</td>\n",
       "      <td>1.199658</td>\n",
       "      <td>392.510509</td>\n",
       "      <td>954.832674</td>\n",
       "      <td>86927.793440</td>\n",
       "      <td>85428.787997</td>\n",
       "      <td>7587.410106</td>\n",
       "      <td>682.241434</td>\n",
       "      <td>86.448555</td>\n",
       "      <td>3822.206560</td>\n",
       "      <td>-39381.088150</td>\n",
       "    </tr>\n",
       "    <tr>\n",
       "      <th>2020</th>\n",
       "      <td>60.743646</td>\n",
       "      <td>71.342207</td>\n",
       "      <td>550</td>\n",
       "      <td>1000</td>\n",
       "      <td>3618.897708</td>\n",
       "      <td>0.552036</td>\n",
       "      <td>0.851441</td>\n",
       "      <td>0.299404</td>\n",
       "      <td>170</td>\n",
       "      <td>1.223750</td>\n",
       "      <td>407.153039</td>\n",
       "      <td>956.386324</td>\n",
       "      <td>89881.102292</td>\n",
       "      <td>88141.588968</td>\n",
       "      <td>9326.923431</td>\n",
       "      <td>683.452024</td>\n",
       "      <td>88.595750</td>\n",
       "      <td>3618.897708</td>\n",
       "      <td>-41153.439921</td>\n",
       "    </tr>\n",
       "  </tbody>\n",
       "</table>\n",
       "</div>"
      ],
      "text/plain": [
       "             pL         pR   pA     G           pi      TMST  prix_relatif  \\\n",
       "2010  45.000000  75.000000  550  1000  4550.000000  0.500000      0.600000   \n",
       "2011  46.370454  74.625936  550  1000  4636.227767  0.504950      0.621372   \n",
       "2012  47.782645  74.253738  550  1000  4105.730755  0.509804      0.643505   \n",
       "2013  49.237843  73.883395  550  1000  4055.922151  0.514563      0.666426   \n",
       "2014  50.737358  73.514900  550  1000  4359.871953  0.520653      0.690164   \n",
       "2015  52.282541  73.148243  550  1000  4162.134311  0.525214      0.714748   \n",
       "2016  53.874781  72.783415  550  1000  4310.059182  0.531073      0.740207   \n",
       "2017  55.515513  72.420406  550  1000  3824.777884  0.536813      0.766573   \n",
       "2018  57.206212  72.059208  550  1000  3932.324734  0.541090      0.793878   \n",
       "2019  58.948400  71.699811  550  1000  3822.206560  0.546618      0.822156   \n",
       "2020  60.743646  71.342207  550  1000  3618.897708  0.552036      0.851441   \n",
       "\n",
       "          diff    A         M      R_star      L_star    costs_reel  \\\n",
       "2010  0.100000  126  1.002041  282.310809  941.036029  64750.000000   \n",
       "2011  0.116421  130  1.023641  292.825359  942.512507  66863.772233   \n",
       "2012  0.133701  133  1.037070  303.672741  943.808623  69044.269245   \n",
       "2013  0.151863  137  1.058012  314.862948  944.929446  71294.077849   \n",
       "2014  0.169511  142  1.084728  327.018186  947.653176  73740.128047   \n",
       "2015  0.189534  146  1.104903  338.937819  948.412440  76137.865689   \n",
       "2016  0.209133  151  1.130713  351.869355  950.732519  78739.940818   \n",
       "2017  0.229760  155  1.148639  365.213015  952.846280  81425.222116   \n",
       "2018  0.252788  160  1.175138  378.318272  953.089331  84067.675266   \n",
       "2019  0.275538  165  1.199658  392.510509  954.832674  86927.793440   \n",
       "2020  0.299404  170  1.223750  407.153039  956.386324  89881.102292   \n",
       "\n",
       "         costs_opt  gain_cumulatif      C_marg      A_opt       profit  \\\n",
       "2010  64519.931949      230.068051  672.157362  69.031250  4550.000000   \n",
       "2011  66557.099345      536.740938  672.369272  71.155397  4636.227767   \n",
       "2012  68646.508014      934.502169  678.149151  70.951902  4105.730755   \n",
       "2013  70789.431222     1439.148796  679.204528  72.745632  4055.922151   \n",
       "2014  73122.128151     2057.148692  677.191767  76.074902  4359.871953   \n",
       "2015  75378.118284     2816.896097  679.240873  77.512098  4162.134311   \n",
       "2016  77830.759825     3726.077090  678.405971  80.462965  4310.059182   \n",
       "2017  80346.624668     4804.674538  682.540206  81.102651  3824.777884   \n",
       "2018  82783.945141     6088.404664  681.521490  84.094848  3932.324734   \n",
       "2019  85428.787997     7587.410106  682.241434  86.448555  3822.206560   \n",
       "2020  88141.588968     9326.923431  683.452024  88.595750  3618.897708   \n",
       "\n",
       "        profit_opt  \n",
       "2010 -26782.812763  \n",
       "2011 -27728.303757  \n",
       "2012 -30020.723138  \n",
       "2013 -31283.980506  \n",
       "2014 -31898.931678  \n",
       "2015 -33506.212058  \n",
       "2016 -34485.310157  \n",
       "2017 -36818.764273  \n",
       "2018 -37815.509100  \n",
       "2019 -39381.088150  \n",
       "2020 -41153.439921  "
      ]
     },
     "execution_count": 75,
     "metadata": {},
     "output_type": "execute_result"
    }
   ],
   "source": [
    "costs"
   ]
  },
  {
   "cell_type": "code",
   "execution_count": 76,
   "metadata": {},
   "outputs": [
    {
     "data": {
      "text/plain": [
       "<AxesSubplot: >"
      ]
     },
     "execution_count": 76,
     "metadata": {},
     "output_type": "execute_result"
    },
    {
     "data": {
      "image/png": "[encoded data removed]",
      "text/plain": [
       "<Figure size 432x288 with 1 Axes>"
      ]
     },
     "metadata": {
      "needs_background": "light"
     },
     "output_type": "display_data"
    }
   ],
   "source": [
    "costs[['profit', 'profit_opt']].plot()"
   ]
  },
  {
   "cell_type": "markdown",
   "metadata": {},
   "source": [
    "Comme le montre la colonne A_opt ci-haut, la production optimale de la firme est plus basse. "
   ]
  }
 ],
 "metadata": {
  "kernelspec": {
   "display_name": "Python 3.8.5 ('base')",
   "language": "python",
   "name": "python3"
  },
  "language_info": {
   "codemirror_mode": {
    "name": "ipython",
    "version": 3
   },
   "file_extension": ".py",
   "mimetype": "text/x-python",
   "name": "python",
   "nbconvert_exporter": "python",
   "pygments_lexer": "ipython3",
   "version": "3.8.5"
  },
  "orig_nbformat": 4,
  "vscode": {
   "interpreter": {
    "hash": "40d3a090f54c6569ab1632332b64b2c03c39dcf918b08424e98f38b5ae0af88f"
   }
  }
 },
 "nbformat": 4,
 "nbformat_minor": 2
}
