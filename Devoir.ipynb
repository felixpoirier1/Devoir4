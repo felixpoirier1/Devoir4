{
 "cells": [
  {
   "cell_type": "code",
   "execution_count": 1,
   "metadata": {},
   "outputs": [],
   "source": [
    "import pandas as pd\n",
    "import matplotlib.pyplot as plt"
   ]
  },
  {
   "cell_type": "markdown",
   "metadata": {},
   "source": [
    "# Question 1"
   ]
  },
  {
   "cell_type": "code",
   "execution_count": 2,
   "metadata": {},
   "outputs": [],
   "source": [
    "prod = pd.read_excel(\"production.xlsx\", index_col=0)"
   ]
  },
  {
   "cell_type": "code",
   "execution_count": 3,
   "metadata": {},
   "outputs": [
    {
     "data": {
      "text/html": [
       "<div>\n",
       "<style scoped>\n",
       "    .dataframe tbody tr th:only-of-type {\n",
       "        vertical-align: middle;\n",
       "    }\n",
       "\n",
       "    .dataframe tbody tr th {\n",
       "        vertical-align: top;\n",
       "    }\n",
       "\n",
       "    .dataframe thead th {\n",
       "        text-align: right;\n",
       "    }\n",
       "</style>\n",
       "<table border=\"1\" class=\"dataframe\">\n",
       "  <thead>\n",
       "    <tr style=\"text-align: right;\">\n",
       "      <th></th>\n",
       "      <th>R</th>\n",
       "      <th>L</th>\n",
       "      <th>A</th>\n",
       "      <th>M</th>\n",
       "    </tr>\n",
       "  </thead>\n",
       "  <tbody>\n",
       "    <tr>\n",
       "      <th>2010</th>\n",
       "      <td>250</td>\n",
       "      <td>1000</td>\n",
       "      <td>126</td>\n",
       "      <td>1.002041</td>\n",
       "    </tr>\n",
       "    <tr>\n",
       "      <th>2011</th>\n",
       "      <td>255</td>\n",
       "      <td>1010</td>\n",
       "      <td>130</td>\n",
       "      <td>1.023641</td>\n",
       "    </tr>\n",
       "    <tr>\n",
       "      <th>2012</th>\n",
       "      <td>260</td>\n",
       "      <td>1020</td>\n",
       "      <td>133</td>\n",
       "      <td>1.037070</td>\n",
       "    </tr>\n",
       "    <tr>\n",
       "      <th>2013</th>\n",
       "      <td>265</td>\n",
       "      <td>1030</td>\n",
       "      <td>137</td>\n",
       "      <td>1.058012</td>\n",
       "    </tr>\n",
       "    <tr>\n",
       "      <th>2014</th>\n",
       "      <td>271</td>\n",
       "      <td>1041</td>\n",
       "      <td>142</td>\n",
       "      <td>1.084728</td>\n",
       "    </tr>\n",
       "    <tr>\n",
       "      <th>2015</th>\n",
       "      <td>276</td>\n",
       "      <td>1051</td>\n",
       "      <td>146</td>\n",
       "      <td>1.104903</td>\n",
       "    </tr>\n",
       "    <tr>\n",
       "      <th>2016</th>\n",
       "      <td>282</td>\n",
       "      <td>1062</td>\n",
       "      <td>151</td>\n",
       "      <td>1.130713</td>\n",
       "    </tr>\n",
       "    <tr>\n",
       "      <th>2017</th>\n",
       "      <td>288</td>\n",
       "      <td>1073</td>\n",
       "      <td>155</td>\n",
       "      <td>1.148639</td>\n",
       "    </tr>\n",
       "    <tr>\n",
       "      <th>2018</th>\n",
       "      <td>293</td>\n",
       "      <td>1083</td>\n",
       "      <td>160</td>\n",
       "      <td>1.175138</td>\n",
       "    </tr>\n",
       "    <tr>\n",
       "      <th>2019</th>\n",
       "      <td>299</td>\n",
       "      <td>1094</td>\n",
       "      <td>165</td>\n",
       "      <td>1.199658</td>\n",
       "    </tr>\n",
       "    <tr>\n",
       "      <th>2020</th>\n",
       "      <td>305</td>\n",
       "      <td>1105</td>\n",
       "      <td>170</td>\n",
       "      <td>1.223750</td>\n",
       "    </tr>\n",
       "  </tbody>\n",
       "</table>\n",
       "</div>"
      ],
      "text/plain": [
       "        R     L    A         M\n",
       "2010  250  1000  126  1.002041\n",
       "2011  255  1010  130  1.023641\n",
       "2012  260  1020  133  1.037070\n",
       "2013  265  1030  137  1.058012\n",
       "2014  271  1041  142  1.084728\n",
       "2015  276  1051  146  1.104903\n",
       "2016  282  1062  151  1.130713\n",
       "2017  288  1073  155  1.148639\n",
       "2018  293  1083  160  1.175138\n",
       "2019  299  1094  165  1.199658\n",
       "2020  305  1105  170  1.223750"
      ]
     },
     "execution_count": 3,
     "metadata": {},
     "output_type": "execute_result"
    }
   ],
   "source": [
    "M_list = []\n",
    "for i in prod.index:\n",
    "    R = prod.loc[i]['R']\n",
    "    L = prod.loc[i]['L']\n",
    "    A = prod.loc[i]['A']\n",
    "\n",
    "    M_list += [A/(R**(1/4)*L**(1/2))]\n",
    "\n",
    "prod['M'] = M_list\n",
    "prod\n"
   ]
  },
  {
   "cell_type": "code",
   "execution_count": 4,
   "metadata": {},
   "outputs": [
    {
     "data": {
      "text/plain": [
       "Text(0.5, 0, 'Années')"
      ]
     },
     "execution_count": 4,
     "metadata": {},
     "output_type": "execute_result"
    },
    {
     "data": {
      "image/png": "[encoded data removed]",
      "text/plain": [
       "<Figure size 720x360 with 1 Axes>"
      ]
     },
     "metadata": {
      "needs_background": "light"
     },
     "output_type": "display_data"
    }
   ],
   "source": [
    "plt.rcParams.update({'font.sans-serif':'futura'})\n",
    "plt.figure(figsize=(10,5))\n",
    "plt.grid(True)\n",
    "\n",
    "plt.plot(prod['M'], 'o-', color=\"black\", label=\"Productivité multi-factorielle de l'entreprise\")\n",
    "plt.title(\"Productivité de l'entreprise à travers le temps\")\n",
    "plt.fill_between(prod.index, prod['M'], [1 for i in prod.index], color=\"#767bf4\")\n",
    "plt.ylabel(r\"Facteur de productivité ($ M_t $)\")\n",
    "plt.xlabel(\"Années\")\n"
   ]
  },
  {
   "cell_type": "code",
   "execution_count": 5,
   "metadata": {},
   "outputs": [
    {
     "name": "stdout",
     "output_type": "stream",
     "text": [
      "Le rythme annuel moyen d'augmentation de la productivité mulifcatorielle est de 2.02% \n"
     ]
    }
   ],
   "source": [
    "print(\"Le rythme annuel moyen d'augmentation de la productivité mulifcatorielle est de {}% \".format(round(prod['M'].pct_change().mean()*100, 2)))"
   ]
  },
  {
   "cell_type": "markdown",
   "metadata": {},
   "source": [
    "# Question 2\n",
    "\n",
    "$$ A_t = F_t(R_t, L_t) = M_t R_t^{1/4} L_t^{1/2}$$\n",
    "\n",
    "$$ \\frac{dL}{dA}\\bigg\\rvert_{dA=0} : 0=\\frac{1}{2}M_t R_t^{1/4} L_t^{-1/2} $$\n",
    "$$ \\frac{dR}{dA}\\bigg\\rvert_{dA=0} : 0=\\frac{1}{4}M_t R_t^{-3/4} L_t^{1/2} $$\n",
    "\n",
    "$$ TMST = - \\frac{\\frac{1}{2}M_t R_t^{1/4} L_t^{-1/2}}{\\frac{1}{4}M_t R_t^{-3/4} L_t^{1/2}} = -2\\frac{R_t}{L_t}$$"
   ]
  },
  {
   "cell_type": "code",
   "execution_count": 6,
   "metadata": {},
   "outputs": [],
   "source": [
    "def tmst(R, L):\n",
    "    return -2 * (R/L)\n",
    "\n",
    "TMST_list = []\n",
    "for i in prod.index:\n",
    "    R = prod.loc[i]['R']\n",
    "    L = prod.loc[i]['L']\n",
    "\n",
    "    TMST_list += [tmst(R, L)]\n",
    "\n",
    "prod['TMST'] = TMST_list\n"
   ]
  },
  {
   "cell_type": "code",
   "execution_count": 7,
   "metadata": {},
   "outputs": [
    {
     "data": {
      "image/png": "[encoded data removed]",
      "text/plain": [
       "<Figure size 720x360 with 1 Axes>"
      ]
     },
     "metadata": {
      "needs_background": "light"
     },
     "output_type": "display_data"
    }
   ],
   "source": [
    "plt.rcParams.update({'font.sans-serif':'futura'})\n",
    "\n",
    "plt.figure(figsize=(10,5))\n",
    "plt.plot(prod['TMST'], 'o-', color=\"black\")\n",
    "plt.title(\"TMST de l'entreprise à travers le temps\")\n",
    "plt.fill_between(prod.index, prod['TMST'], [-0.5 for i in prod.index], color=\"#767bf4\")\n",
    "plt.ylabel(r\"Taux marginal de substitution technique ($ TMST $)\")\n",
    "plt.xlabel(\"Années\")\n",
    "plt.grid(True)"
   ]
  },
  {
   "cell_type": "markdown",
   "metadata": {},
   "source": [
    "On observe que le TMST diminue à travers les années. Cela signifie qu'à travers les 10 années, le coût exprimé en robots de remplacer un travailleur a diminué. Cela est logique avec l'avancée technologique qui fait en sorte que les robots deviennent de moins en moins cher comparativement aux humains."
   ]
  },
  {
   "cell_type": "markdown",
   "metadata": {},
   "source": [
    "# Question 3"
   ]
  },
  {
   "cell_type": "code",
   "execution_count": 8,
   "metadata": {},
   "outputs": [],
   "source": [
    "costs = pd.read_excel(\"costs.xlsx\", index_col=0)"
   ]
  },
  {
   "cell_type": "code",
   "execution_count": 9,
   "metadata": {},
   "outputs": [
    {
     "data": {
      "text/html": [
       "<div>\n",
       "<style scoped>\n",
       "    .dataframe tbody tr th:only-of-type {\n",
       "        vertical-align: middle;\n",
       "    }\n",
       "\n",
       "    .dataframe tbody tr th {\n",
       "        vertical-align: top;\n",
       "    }\n",
       "\n",
       "    .dataframe thead th {\n",
       "        text-align: right;\n",
       "    }\n",
       "</style>\n",
       "<table border=\"1\" class=\"dataframe\">\n",
       "  <thead>\n",
       "    <tr style=\"text-align: right;\">\n",
       "      <th></th>\n",
       "      <th>pL</th>\n",
       "      <th>pR</th>\n",
       "      <th>pA</th>\n",
       "      <th>G</th>\n",
       "      <th>pi</th>\n",
       "      <th>TMST</th>\n",
       "      <th>prix_relatif</th>\n",
       "      <th>diff</th>\n",
       "    </tr>\n",
       "  </thead>\n",
       "  <tbody>\n",
       "    <tr>\n",
       "      <th>2010</th>\n",
       "      <td>45.000000</td>\n",
       "      <td>75.000000</td>\n",
       "      <td>550</td>\n",
       "      <td>1000</td>\n",
       "      <td>4550.000000</td>\n",
       "      <td>0.500000</td>\n",
       "      <td>0.600000</td>\n",
       "      <td>0.100000</td>\n",
       "    </tr>\n",
       "    <tr>\n",
       "      <th>2011</th>\n",
       "      <td>46.370454</td>\n",
       "      <td>74.625936</td>\n",
       "      <td>550</td>\n",
       "      <td>1000</td>\n",
       "      <td>4636.227767</td>\n",
       "      <td>0.504950</td>\n",
       "      <td>0.621372</td>\n",
       "      <td>0.116421</td>\n",
       "    </tr>\n",
       "    <tr>\n",
       "      <th>2012</th>\n",
       "      <td>47.782645</td>\n",
       "      <td>74.253738</td>\n",
       "      <td>550</td>\n",
       "      <td>1000</td>\n",
       "      <td>4105.730755</td>\n",
       "      <td>0.509804</td>\n",
       "      <td>0.643505</td>\n",
       "      <td>0.133701</td>\n",
       "    </tr>\n",
       "    <tr>\n",
       "      <th>2013</th>\n",
       "      <td>49.237843</td>\n",
       "      <td>73.883395</td>\n",
       "      <td>550</td>\n",
       "      <td>1000</td>\n",
       "      <td>4055.922151</td>\n",
       "      <td>0.514563</td>\n",
       "      <td>0.666426</td>\n",
       "      <td>0.151863</td>\n",
       "    </tr>\n",
       "    <tr>\n",
       "      <th>2014</th>\n",
       "      <td>50.737358</td>\n",
       "      <td>73.514900</td>\n",
       "      <td>550</td>\n",
       "      <td>1000</td>\n",
       "      <td>4359.871953</td>\n",
       "      <td>0.520653</td>\n",
       "      <td>0.690164</td>\n",
       "      <td>0.169511</td>\n",
       "    </tr>\n",
       "    <tr>\n",
       "      <th>2015</th>\n",
       "      <td>52.282541</td>\n",
       "      <td>73.148243</td>\n",
       "      <td>550</td>\n",
       "      <td>1000</td>\n",
       "      <td>4162.134311</td>\n",
       "      <td>0.525214</td>\n",
       "      <td>0.714748</td>\n",
       "      <td>0.189534</td>\n",
       "    </tr>\n",
       "    <tr>\n",
       "      <th>2016</th>\n",
       "      <td>53.874781</td>\n",
       "      <td>72.783415</td>\n",
       "      <td>550</td>\n",
       "      <td>1000</td>\n",
       "      <td>4310.059182</td>\n",
       "      <td>0.531073</td>\n",
       "      <td>0.740207</td>\n",
       "      <td>0.209133</td>\n",
       "    </tr>\n",
       "    <tr>\n",
       "      <th>2017</th>\n",
       "      <td>55.515513</td>\n",
       "      <td>72.420406</td>\n",
       "      <td>550</td>\n",
       "      <td>1000</td>\n",
       "      <td>3824.777884</td>\n",
       "      <td>0.536813</td>\n",
       "      <td>0.766573</td>\n",
       "      <td>0.229760</td>\n",
       "    </tr>\n",
       "    <tr>\n",
       "      <th>2018</th>\n",
       "      <td>57.206212</td>\n",
       "      <td>72.059208</td>\n",
       "      <td>550</td>\n",
       "      <td>1000</td>\n",
       "      <td>3932.324734</td>\n",
       "      <td>0.541090</td>\n",
       "      <td>0.793878</td>\n",
       "      <td>0.252788</td>\n",
       "    </tr>\n",
       "    <tr>\n",
       "      <th>2019</th>\n",
       "      <td>58.948400</td>\n",
       "      <td>71.699811</td>\n",
       "      <td>550</td>\n",
       "      <td>1000</td>\n",
       "      <td>3822.206560</td>\n",
       "      <td>0.546618</td>\n",
       "      <td>0.822156</td>\n",
       "      <td>0.275538</td>\n",
       "    </tr>\n",
       "    <tr>\n",
       "      <th>2020</th>\n",
       "      <td>60.743646</td>\n",
       "      <td>71.342207</td>\n",
       "      <td>550</td>\n",
       "      <td>1000</td>\n",
       "      <td>3618.897708</td>\n",
       "      <td>0.552036</td>\n",
       "      <td>0.851441</td>\n",
       "      <td>0.299404</td>\n",
       "    </tr>\n",
       "  </tbody>\n",
       "</table>\n",
       "</div>"
      ],
      "text/plain": [
       "             pL         pR   pA     G           pi      TMST  prix_relatif  \\\n",
       "2010  45.000000  75.000000  550  1000  4550.000000  0.500000      0.600000   \n",
       "2011  46.370454  74.625936  550  1000  4636.227767  0.504950      0.621372   \n",
       "2012  47.782645  74.253738  550  1000  4105.730755  0.509804      0.643505   \n",
       "2013  49.237843  73.883395  550  1000  4055.922151  0.514563      0.666426   \n",
       "2014  50.737358  73.514900  550  1000  4359.871953  0.520653      0.690164   \n",
       "2015  52.282541  73.148243  550  1000  4162.134311  0.525214      0.714748   \n",
       "2016  53.874781  72.783415  550  1000  4310.059182  0.531073      0.740207   \n",
       "2017  55.515513  72.420406  550  1000  3824.777884  0.536813      0.766573   \n",
       "2018  57.206212  72.059208  550  1000  3932.324734  0.541090      0.793878   \n",
       "2019  58.948400  71.699811  550  1000  3822.206560  0.546618      0.822156   \n",
       "2020  60.743646  71.342207  550  1000  3618.897708  0.552036      0.851441   \n",
       "\n",
       "          diff  \n",
       "2010  0.100000  \n",
       "2011  0.116421  \n",
       "2012  0.133701  \n",
       "2013  0.151863  \n",
       "2014  0.169511  \n",
       "2015  0.189534  \n",
       "2016  0.209133  \n",
       "2017  0.229760  \n",
       "2018  0.252788  \n",
       "2019  0.275538  \n",
       "2020  0.299404  "
      ]
     },
     "execution_count": 9,
     "metadata": {},
     "output_type": "execute_result"
    }
   ],
   "source": [
    "costs['TMST'] = abs(prod['TMST'])\n",
    "costs[\"prix_relatif\"] = costs['pL']/costs['pR']\n",
    "\n",
    "costs['diff'] = costs['prix_relatif'] - costs['TMST']\n",
    "costs"
   ]
  },
  {
   "cell_type": "markdown",
   "metadata": {},
   "source": [
    "avoir plus de robot"
   ]
  },
  {
   "cell_type": "code",
   "execution_count": 10,
   "metadata": {},
   "outputs": [
    {
     "data": {
      "text/plain": [
       "<matplotlib.legend.Legend at 0x1198e5610>"
      ]
     },
     "execution_count": 10,
     "metadata": {},
     "output_type": "execute_result"
    },
    {
     "data": {
      "image/png": "[encoded data removed]",
      "text/plain": [
       "<Figure size 720x360 with 1 Axes>"
      ]
     },
     "metadata": {
      "needs_background": "light"
     },
     "output_type": "display_data"
    }
   ],
   "source": [
    "plt.rcParams.update({'font.sans-serif':'futura'})\n",
    "\n",
    "plt.figure(figsize=(10,5))\n",
    "plt.grid(True)\n",
    "plt.plot(costs['prix_relatif'], \"o-\", color=\"#3b35f5\", label=r\"$ p_L/p_R $\")\n",
    "plt.plot(costs['TMST'], \"o-\", color=\"black\", label=r\"$ |TMST| $\")\n",
    "plt.bar(costs.index, costs['diff'], color=\"#003261\", label=r\"$ p_L/p_R - |TMST| $\")\n",
    "plt.title(\"Différences entre le TMST et le prix relatif\")\n",
    "plt.fill_between(prod.index, costs['TMST'], costs['prix_relatif'], color=\"#767bf4\")\n",
    "plt.ylabel(r\"Facteur\")\n",
    "plt.xlabel(\"Années\")\n",
    "plt.legend()\n"
   ]
  },
  {
   "cell_type": "markdown",
   "metadata": {},
   "source": [
    "Puisque le TMST n'est pas égal au prix relatif, l'entreprise n'a jamais minimisé ses coûts au cours de la décennie. De plus, comme on le voit ci-haut, le prix relatif d'un travailleur en robots a toujours été plus élevé que le TMST. Cela signifie, que pour minimiser ses coûts, l'entreprise devrait réduire ses travailleurs en faveur de robots. De plus, on observe que le prix relatif a augmenté plus rapidement au fil des années que le TMST, ce qui indique que la stratégie de coûts de l'entreprise devient de plus en plus inefficace à travers les années."
   ]
  },
  {
   "cell_type": "markdown",
   "metadata": {},
   "source": [
    "# Question 4\n",
    "\n",
    "Fonction des coûts:\n",
    "$$ C(L,R,G) = p_L L + p_R R + G $$\n",
    "\n",
    "Fonction de production (contrainte):\n",
    "$$ F_t(R_t, L_t) = A_t =  M_t R_t^{1/4} L_t^{1/2} $$\n",
    "\n",
    "Optimisation par le Lagrangien:\n",
    "$$ L(L_t, R_t, \\mu) = p_L L + p_R R + G + \\mu(M_t R_t^{1/4} L_t^{1/2} - A_t) $$\n",
    "$$ \\frac{dL}{dA}\\bigg\\rvert_{dA=0} : 0=\\frac{1}{2}M_t R_t^{1/4} L_t^{-1/2} $$\n",
    "$$ \\frac{dR}{dA}\\bigg\\rvert_{dA=0} : 0=\\frac{1}{4}M_t R_t^{-3/4} L_t^{1/2} $$\n",
    "$$ \\frac{dM}{dA}\\bigg\\rvert_{dA=0} : A_t =  M_t R_t^{1/4} L_t^{1/2} $$\n",
    "Demandes d'input conditionnelles:\n",
    "$$ R_t^* = (\\frac{A_t}{M_t})^{4/3}(\\frac{p_L}{2p_R})^{2/3} $$\n",
    "$$ L_t^* = (\\frac{A_t}{M_t})^{4/3} (\\frac{2p_R}{p_L})^{1/3} $$\n",
    "\n"
   ]
  },
  {
   "cell_type": "code",
   "execution_count": 11,
   "metadata": {},
   "outputs": [],
   "source": [
    "def R_star(A, M, pL, pR):\n",
    "    return (A/M)**(4/3)*(pL/(2*pR))**(2/3)\n",
    "\n",
    "def L_star(A, M, pL, pR):\n",
    "    return (A/M)**(4/3)*((2*pR)/pL)**(1/3)\n",
    "\n",
    "costs['A'] = prod['A']\n",
    "costs['M'] = prod['M']\n",
    "\n",
    "R_star_ = []\n",
    "L_star_ = []\n",
    "for i in costs.index:\n",
    "    A = costs.loc[i]['A']\n",
    "    M = costs.loc[i]['M']\n",
    "    pL = costs.loc[i]['pL']\n",
    "    pR = costs.loc[i]['pR']\n",
    "\n",
    "    R_star_ += [R_star(A, M, pL, pR)]\n",
    "    L_star_ += [L_star(A, M, pL, pR)]\n",
    "\n",
    "costs['R_star'] = R_star_\n",
    "costs['L_star'] = L_star_\n"
   ]
  },
  {
   "cell_type": "code",
   "execution_count": 12,
   "metadata": {},
   "outputs": [
    {
     "data": {
      "text/plain": [
       "<AxesSubplot: title={'center': 'Après'}>"
      ]
     },
     "execution_count": 12,
     "metadata": {},
     "output_type": "execute_result"
    },
    {
     "data": {
      "image/png": "[encoded data removed]",
      "text/plain": [
       "<Figure size 432x288 with 1 Axes>"
      ]
     },
     "metadata": {
      "needs_background": "light"
     },
     "output_type": "display_data"
    },
    {
     "data": {
      "image/png": "[encoded data removed]",
      "text/plain": [
       "<Figure size 432x288 with 1 Axes>"
      ]
     },
     "metadata": {
      "needs_background": "light"
     },
     "output_type": "display_data"
    }
   ],
   "source": [
    "prod[['R', 'L']].plot(title=\"Avant\")\n",
    "costs[['R_star', 'L_star']].plot(title=\"Après\")"
   ]
  },
  {
   "cell_type": "code",
   "execution_count": 28,
   "metadata": {},
   "outputs": [
    {
     "data": {
      "text/plain": [
       "<matplotlib.legend.Legend at 0x11aedfd60>"
      ]
     },
     "execution_count": 28,
     "metadata": {},
     "output_type": "execute_result"
    },
    {
     "data": {
      "image/png": "[encoded data removed]",
      "text/plain": [
       "<Figure size 720x360 with 1 Axes>"
      ]
     },
     "metadata": {
      "needs_background": "light"
     },
     "output_type": "display_data"
    }
   ],
   "source": [
    "plt.rcParams.update({'font.sans-serif':'futura'})\n",
    "\n",
    "plt.figure(figsize=(10,5))\n",
    "plt.grid(True)\n",
    "plt.plot(prod['R'], \"o-\", color=\"#3b35f5\", label=r\"Robots ($ R $)\")\n",
    "plt.plot(prod['L'], \"o-\", color=\"black\", label=r\"Main d'oeuvre ($ L $)\")\n",
    "plt.bar(costs.index, prod['R'] - prod['L'], color=\"#8b0000\", label=r\"Écart ($ R - L $)\")\n",
    "plt.axhline(0, color='black')\n",
    "plt.title(\"Évolution de la main d'oeuvre et des robots\")\n",
    "plt.fill_between(prod.index, prod['L'], prod['R'], color=\"#767bf4\")\n",
    "plt.ylabel(r\"Quantité\")\n",
    "plt.xlabel(\"Années\")\n",
    "plt.legend()"
   ]
  },
  {
   "cell_type": "markdown",
   "metadata": {},
   "source": [
    "En observant le graphique ci-haut, pour minimiser ses coûts l'entreprise doit augmenter son input de robots et diminuer (ou augmenter moins rapidement) sa demande de travailleurs."
   ]
  },
  {
   "cell_type": "markdown",
   "metadata": {},
   "source": [
    "# Question 5\n",
    "\n",
    "Insérer les demandes conditionnelles dans la fonction des coûts:\n",
    "$$ C(L,R,G) = p_L ((\\frac{A_t}{M_t})^{4/3} (\\frac{2p_R}{p_L})^{1/3} ) + p_R((\\frac{A_t}{M_t})^{4/3}(\\frac{p_L}{2p_R})^{2/3}) + G $$\n",
    "$$ C(L,R,G) = (p^{2/3}(2*p_R)^{1/3}+ p_R^{1/3}(\\frac{p_L}{2})^{2/3})(\\frac{A_t}{M_t})^{4/3} + G$$\n"
   ]
  },
  {
   "cell_type": "code",
   "execution_count": 13,
   "metadata": {},
   "outputs": [],
   "source": [
    "costs['costs_reel'] = costs['pL'] * prod['L'] + costs['pR'] * prod['R'] + costs['G']\n",
    "\n",
    "costs['costs_opt'] = costs['pL'] * costs['L_star'] + costs['pR'] * costs['R_star'] + costs['G']"
   ]
  },
  {
   "cell_type": "code",
   "execution_count": 14,
   "metadata": {},
   "outputs": [],
   "source": [
    "costs['gain_cumulatif'] = (costs['costs_reel'] - costs['costs_opt']).cumsum()"
   ]
  },
  {
   "cell_type": "code",
   "execution_count": 34,
   "metadata": {},
   "outputs": [
    {
     "name": "stdout",
     "output_type": "stream",
     "text": [
      "9326.92 $\n"
     ]
    }
   ],
   "source": [
    "print(round(costs.iloc[-1]['gain_cumulatif'], 2), \"$\")"
   ]
  },
  {
   "cell_type": "code",
   "execution_count": 30,
   "metadata": {},
   "outputs": [
    {
     "data": {
      "text/plain": [
       "<matplotlib.legend.Legend at 0x11b46afa0>"
      ]
     },
     "execution_count": 30,
     "metadata": {},
     "output_type": "execute_result"
    },
    {
     "data": {
      "image/png": "[encoded data removed]",
      "text/plain": [
       "<Figure size 720x360 with 1 Axes>"
      ]
     },
     "metadata": {
      "needs_background": "light"
     },
     "output_type": "display_data"
    }
   ],
   "source": [
    "plt.rcParams.update({'font.sans-serif':'futura'})\n",
    "\n",
    "plt.figure(figsize=(10,5))\n",
    "plt.grid(True)\n",
    "plt.plot(costs['costs_reel'], \"o-\", color=\"#3b35f5\", label=r\"Cout réel ($ C_{reel} $)\")\n",
    "plt.plot(costs['costs_opt'], \"o-\", color=\"black\", label=r\"Cout optimal ($ C_{opt} $)\")\n",
    "plt.bar(costs.index, costs['gain_cumulatif'], color=\"#8b0000\", label=r\"Gain cumulatif ($ C_{reel} - C_{opt} $)\")\n",
    "plt.axhline(0, color='black')\n",
    "plt.title(\"Évolution des couts réels et optimaux\")\n",
    "plt.fill_between(prod.index, costs['costs_reel'], costs['costs_opt'], color=\"#767bf4\")\n",
    "plt.ylabel(r\"Quantité en $\")\n",
    "plt.xlabel(\"Années\")\n",
    "plt.legend()"
   ]
  },
  {
   "cell_type": "markdown",
   "metadata": {},
   "source": [
    "Si elle avait optimisé ses coûts sur la décennie, l'entreprise aurait épargné 9326,92$. Comme le montre le graphique, l'entreprise a payé plus de coûts qu'elle ne l'aurait fait en les optimisant à chaque année (moins de travailleurs, plus de robots)."
   ]
  },
  {
   "cell_type": "code",
   "execution_count": null,
   "metadata": {},
   "outputs": [],
   "source": []
  }
 ],
 "metadata": {
  "kernelspec": {
   "display_name": "Python 3.8.5 ('base')",
   "language": "python",
   "name": "python3"
  },
  "language_info": {
   "codemirror_mode": {
    "name": "ipython",
    "version": 3
   },
   "file_extension": ".py",
   "mimetype": "text/x-python",
   "name": "python",
   "nbconvert_exporter": "python",
   "pygments_lexer": "ipython3",
   "version": "3.8.5"
  },
  "orig_nbformat": 4,
  "vscode": {
   "interpreter": {
    "hash": "40d3a090f54c6569ab1632332b64b2c03c39dcf918b08424e98f38b5ae0af88f"
   }
  }
 },
 "nbformat": 4,
 "nbformat_minor": 2
}
